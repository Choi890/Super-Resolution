{
 "cells": [
  {
   "cell_type": "code",
   "execution_count": null,
   "metadata": {},
   "outputs": [],
   "source": [
    "import warnings\n",
    "warnings.filterwarnings(action='ignore')"
   ]
  },
  {
   "cell_type": "code",
   "execution_count": null,
   "metadata": {},
   "outputs": [],
   "source": [
    "import cv2, os, glob\n",
    "import numpy as np\n",
    "import matplotlib.pyplot as plt\n",
    "from keras.layers import Conv2D, Input, Activation\n",
    "from keras.models import Model\n",
    "from keras.callbacks import ModelCheckpoint\n",
    "from skimage.transform import pyramid_expand\n",
    "from Subpixel import Subpixel\n",
    "from DataGenerator import DataGenerator"
   ]
  },
  {
   "cell_type": "code",
   "execution_count": null,
   "metadata": {
    "scrolled": false
   },
   "outputs": [],
   "source": [
    "base_path = 'D:/Code/super_resolution-master/processed'\n",
    "\n",
    "x_train_list = sorted(glob.glob(os.path.join(base_path, 'x_train', '*.npy')))\n",
    "x_val_list = sorted(glob.glob(os.path.join(base_path, 'x_val', '*.npy')))\n",
    "\n",
    "print(len(x_train_list), len(x_val_list))\n",
    "print(x_train_list[0])"
   ]
  },
  {
   "cell_type": "code",
   "execution_count": null,
   "metadata": {},
   "outputs": [],
   "source": [
    "x_train_list"
   ]
  },
  {
   "cell_type": "code",
   "execution_count": null,
   "metadata": {},
   "outputs": [],
   "source": [
    "x1 = np.load(x_train_list[0])\n",
    "x2 = np.load(x_val_list[0])\n",
    "\n",
    "print(x1.shape, x2.shape)\n",
    "\n",
    "plt.subplot(1, 2, 1)\n",
    "plt.imshow(x1)\n",
    "plt.subplot(1, 2, 2)\n",
    "plt.imshow(x2)"
   ]
  },
  {
   "cell_type": "code",
   "execution_count": null,
   "metadata": {},
   "outputs": [],
   "source": [
    "train_gen = DataGenerator(list_IDs=x_train_list, \n",
    "                          labels=None, \n",
    "                          batch_size=16, \n",
    "                          dim=(44,44), \n",
    "                          n_channels=3, \n",
    "                          n_classes=None, \n",
    "                          shuffle=True)\n",
    "\n",
    "val_gen = DataGenerator(list_IDs=x_val_list, \n",
    "                        labels=None, \n",
    "                        batch_size=16, \n",
    "                        dim=(44,44), \n",
    "                        n_channels=3, \n",
    "                        n_classes=None, \n",
    "                        shuffle=False)"
   ]
  },
  {
   "cell_type": "code",
   "execution_count": null,
   "metadata": {},
   "outputs": [],
   "source": [
    "upscale_factor = 4\n",
    "\n",
    "inputs = Input(shape=(44, 44, 3))\n",
    "\n",
    "net = Conv2D(filters=64, \n",
    "             kernel_size=5, \n",
    "             strides=1, \n",
    "             padding='same', \n",
    "             activation='relu')(inputs)\n",
    "\n",
    "net = Conv2D(filters=64, \n",
    "             kernel_size=3, \n",
    "             strides=1, \n",
    "             padding='same', \n",
    "             activation='relu')(net)\n",
    "\n",
    "net = Conv2D(filters=32, \n",
    "             kernel_size=3, \n",
    "             strides=1, \n",
    "             padding='same', \n",
    "             activation='relu')(net)\n",
    "\n",
    "net = Conv2D(filters=upscale_factor**2, \n",
    "             kernel_size=3, \n",
    "             strides=1, \n",
    "             padding='same', \n",
    "             activation='relu')(net)\n",
    "\n",
    "net = Subpixel(filters=3,\n",
    "               kernel_size=3, \n",
    "               r=upscale_factor, \n",
    "               padding='same')(net)\n",
    "\n",
    "outputs = Activation('relu')(net)\n",
    "\n",
    "model = Model(inputs=inputs, outputs=outputs)\n",
    "\n",
    "model.compile(optimizer='adam', loss='mse')\n",
    "\n",
    "model.summary()"
   ]
  },
  {
   "cell_type": "code",
   "execution_count": null,
   "metadata": {
    "scrolled": false
   },
   "outputs": [],
   "source": [
    "history = model.fit_generator(train_gen, \n",
    "                              validation_data=val_gen, \n",
    "                              epochs=10, \n",
    "                              verbose=1, \n",
    "                              callbacks=[ModelCheckpoint('D:/Code/super_resolution-master/models/model.h5', \n",
    "                                                         monitor='val_loss', \n",
    "                                                         verbose=1, \n",
    "                                                         save_best_only=True)])"
   ]
  },
  {
   "cell_type": "code",
   "execution_count": null,
   "metadata": {},
   "outputs": [],
   "source": [
    "x_test_list = sorted(glob.glob(os.path.join(base_path, 'x_test', '*.npy')))\n",
    "y_test_list = sorted(glob.glob(os.path.join(base_path, 'y_test', '*.npy')))\n",
    "\n",
    "print(len(x_test_list), len(y_test_list))\n",
    "print(x_test_list[0])"
   ]
  },
  {
   "cell_type": "code",
   "execution_count": null,
   "metadata": {},
   "outputs": [],
   "source": [
    "test_idx = 21\n",
    "\n",
    "# 저해상도 이미지(input)\n",
    "x1_test = np.load(x_test_list[test_idx])\n",
    "\n",
    "# 저해상도 이미지 확대시킨 이미지\n",
    "x1_test_resized = pyramid_expand(x1_test, \n",
    "                                 4,\n",
    "                                 multichannel=True) # 색깔 채널 조건 추가.\n",
    "\n",
    "# 정답 이미지\n",
    "y1_test = np.load(y_test_list[test_idx])\n",
    "\n",
    "# 모델이 예측한 이미지(output)\n",
    "y_pred = model.predict(x1_test.reshape((1, 44, 44, 3)))\n",
    "\n",
    "print(x1_test.shape, y1_test.shape)\n",
    "\n",
    "x1_test = (x1_test * 255).astype(np.uint8)\n",
    "x1_test_resized = (x1_test_resized * 255).astype(np.uint8)\n",
    "y1_test = (y1_test * 255).astype(np.uint8)\n",
    "y_pred = np.clip(y_pred.reshape((176, 176, 3)), 0, 1)\n",
    "\n",
    "x1_test = cv2.cvtColor(x1_test, \n",
    "                       cv2.COLOR_BGR2RGB)\n",
    "\n",
    "x1_test_resized = cv2.cvtColor(x1_test_resized, \n",
    "                               cv2.COLOR_BGR2RGB)\n",
    "\n",
    "y1_test = cv2.cvtColor(y1_test, \n",
    "                       cv2.COLOR_BGR2RGB)\n",
    "\n",
    "y_pred = cv2.cvtColor(y_pred, \n",
    "                      cv2.COLOR_BGR2RGB)\n",
    "\n",
    "fig, ax = plt.subplots(1,4,figsize=(15, 10))\n",
    "ax = ax.ravel()\n",
    "\n",
    "ax[0].set_title('input')\n",
    "ax[0].imshow(x1_test)\n",
    "\n",
    "ax[1].set_title('resized')\n",
    "ax[1].imshow(x1_test_resized)\n",
    "\n",
    "ax[2].set_title('output')\n",
    "ax[2].imshow(y_pred)\n",
    "\n",
    "ax[3].set_title('groundtruth')\n",
    "ax[3].imshow(y1_test)"
   ]
  },
  {
   "cell_type": "code",
   "execution_count": 1,
   "metadata": {},
   "outputs": [
    {
     "name": "stdout",
     "output_type": "stream",
     "text": [
      "[name: \"/device:CPU:0\"\n",
      "device_type: \"CPU\"\n",
      "memory_limit: 268435456\n",
      "locality {\n",
      "}\n",
      "incarnation: 16509680656995657695\n",
      "xla_global_id: -1\n",
      ", name: \"/device:GPU:0\"\n",
      "device_type: \"GPU\"\n",
      "memory_limit: 5672796160\n",
      "locality {\n",
      "  bus_id: 1\n",
      "  links {\n",
      "  }\n",
      "}\n",
      "incarnation: 10760063884070880499\n",
      "physical_device_desc: \"device: 0, name: NVIDIA GeForce RTX 4070 Laptop GPU, pci bus id: 0000:01:00.0, compute capability: 8.9\"\n",
      "xla_global_id: 416903419\n",
      "]\n"
     ]
    }
   ],
   "source": [
    "import tensorflow as tf\n",
    "from tensorflow.python.client import device_lib\n",
    "print(device_lib.list_local_devices())\n",
    "# 출력 화면에 GPU가 있다면 성공! CPU만 있으면 실패... :(\n",
    "# memory_limit: GPU 메모리 사양"
   ]
  }
 ],
 "metadata": {
  "kernelspec": {
   "display_name": "Python 3",
   "language": "python",
   "name": "python3"
  },
  "language_info": {
   "codemirror_mode": {
    "name": "ipython",
    "version": 3
   },
   "file_extension": ".py",
   "mimetype": "text/x-python",
   "name": "python",
   "nbconvert_exporter": "python",
   "pygments_lexer": "ipython3",
   "version": "3.7.0"
  }
 },
 "nbformat": 4,
 "nbformat_minor": 2
}
